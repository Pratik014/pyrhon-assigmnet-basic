{
 "cells": [
  {
   "cell_type": "code",
   "execution_count": null,
   "id": "4b03f40a-fc09-4756-9f22-494bdf9a8bb6",
   "metadata": {},
   "outputs": [],
   "source": [
    "1. What are escape characters, and how do you use them?\n",
    "\n",
    "#Escape characters represent characters in string values that would otherwise be difficult or impossible to \n",
    "#type into code"
   ]
  },
  {
   "cell_type": "code",
   "execution_count": null,
   "id": "8fc98e78-2843-4579-9f20-4cd078a04d09",
   "metadata": {},
   "outputs": [],
   "source": [
    "2. What do the escape characters n and t stand for?\n",
    "#\\n is a newline; \\t is a tab"
   ]
  },
  {
   "cell_type": "code",
   "execution_count": 1,
   "id": "2ea434f9-50a4-425f-ba4e-feee280f2543",
   "metadata": {},
   "outputs": [
    {
     "name": "stdout",
     "output_type": "stream",
     "text": [
      "Object `string` not found.\n"
     ]
    }
   ],
   "source": [
    "3. What is the way to include backslash characters in a string?\n",
    "# The \\\\ escape character will represent a backslash character"
   ]
  },
  {
   "cell_type": "code",
   "execution_count": null,
   "id": "55e62d25-6290-428c-af79-dd84aa5606d7",
   "metadata": {},
   "outputs": [],
   "source": [
    "4. The string &quot;Howl&#39;s Moving Castle&quot; is a correct value. Why isn&#39;t the single quote character in the\n",
    "word Howl&#39;s not escaped a problem?\n",
    "#The single quote in Howl's is fine because you've used double quotes to mark the beginning and end of the string."
   ]
  },
  {
   "cell_type": "code",
   "execution_count": null,
   "id": "9f549fbc-a106-44b3-8ca3-b11f274125fe",
   "metadata": {},
   "outputs": [],
   "source": [
    "5. How do you write a string of newlines if you don&#39;t want to use the n character?\n",
    "# Multiline strings allow you to use newlines in strings without the \\n escape character"
   ]
  },
  {
   "cell_type": "code",
   "execution_count": null,
   "id": "351e04be-e198-44a9-a282-008996498a15",
   "metadata": {},
   "outputs": [],
   "source": [
    "6. What are the values of the given expressions?\n",
    "'Hello, world'[1] == 'e\n",
    "'Hello, world'[0:5] == 'hello'\n",
    "'Hello, world'[:5]   == 'hello'\n",
    "'Hello, world'[3:] == 'lo world!"
   ]
  },
  {
   "cell_type": "code",
   "execution_count": null,
   "id": "b1aee8c0-7414-412c-9dd1-f4802636cefe",
   "metadata": {},
   "outputs": [],
   "source": [
    "7. What are the values of the following expressions?\n",
    "&#39;Hello&#39;.upper()      === 'HELLO'\n",
    "&#39;Hello&#39;.upper().isupper() ==== True\n",
    "&#39;Hello&#39;.upper().lower()     ===  'hello'"
   ]
  },
  {
   "cell_type": "code",
   "execution_count": null,
   "id": "c0eae239-d023-4315-bf5c-9d5b0f6c8287",
   "metadata": {},
   "outputs": [],
   "source": [
    "8. What are the values of the following expressions?\n",
    "Remember, remember, the fifth of July.split(). == ['Remember','remember','the','fifth','of','july']\n",
    "'_'join(There can only one..split())           ==  'There-can-be-only-one.\n"
   ]
  },
  {
   "cell_type": "code",
   "execution_count": null,
   "id": "e91ddce3-927b-40dc-bd00-a97f5e25b82d",
   "metadata": {},
   "outputs": [],
   "source": []
  },
  {
   "cell_type": "code",
   "execution_count": null,
   "id": "743deca6-6129-457d-975a-94c6abc61810",
   "metadata": {},
   "outputs": [],
   "source": []
  },
  {
   "cell_type": "code",
   "execution_count": null,
   "id": "dd3b369a-5106-4cda-b29b-cbb5c0854a0f",
   "metadata": {},
   "outputs": [],
   "source": []
  }
 ],
 "metadata": {
  "kernelspec": {
   "display_name": "Python 3 (ipykernel)",
   "language": "python",
   "name": "python3"
  },
  "language_info": {
   "codemirror_mode": {
    "name": "ipython",
    "version": 3
   },
   "file_extension": ".py",
   "mimetype": "text/x-python",
   "name": "python",
   "nbconvert_exporter": "python",
   "pygments_lexer": "ipython3",
   "version": "3.10.6"
  }
 },
 "nbformat": 4,
 "nbformat_minor": 5
}
