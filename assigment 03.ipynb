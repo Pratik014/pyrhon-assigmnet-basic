{
 "cells": [
  {
   "cell_type": "markdown",
   "id": "50aded81",
   "metadata": {},
   "source": [
    "# 1. Why are functions advantageous to have in your programs?\n",
    "\n"
   ]
  },
  {
   "cell_type": "markdown",
   "id": "7d3562ff",
   "metadata": {},
   "source": [
    "### The function advantage is that , as we see there are many in-built key funtion ,what if we create code in that time we NEED our own funtion ,as we want  to oprate it we oprates in code that time function adv comes"
   ]
  },
  {
   "cell_type": "markdown",
   "id": "91eebc54",
   "metadata": {},
   "source": [
    "## 2. When does the code in a function run: when it&#39;s specified or when it&#39;s called?"
   ]
  },
  {
   "cell_type": "markdown",
   "id": "bdf42b59",
   "metadata": {},
   "source": [
    "### In funtion ,the imp thing is that we need to create the funtion (specified) ,without specified the function is hard to recognize,and second imp thing is also that after create a function we need to call it that fuction "
   ]
  },
  {
   "cell_type": "markdown",
   "id": "a8f8c174",
   "metadata": {},
   "source": [
    "# 3. What statement creates a function?\n"
   ]
  },
  {
   "cell_type": "markdown",
   "id": "42209bd5",
   "metadata": {},
   "source": [
    "### To create a function, we must first declare it and give it a name , fun1=car(): , we put multi statement in  it,one or two or multiple, we put code in it"
   ]
  },
  {
   "cell_type": "markdown",
   "id": "3289e707",
   "metadata": {},
   "source": [
    "# 4. What is the difference between a function and a function call?"
   ]
  },
  {
   "cell_type": "markdown",
   "id": "b9619d0d",
   "metadata": {},
   "source": [
    "### function does the particular opration and return as a result,funtion call is used to pass a control to a funtion"
   ]
  },
  {
   "cell_type": "markdown",
   "id": "8f69af78",
   "metadata": {},
   "source": [
    "# 5. How many global scopes are there in a Python program? How many local scopes?"
   ]
  },
  {
   "cell_type": "code",
   "execution_count": 1,
   "id": "5e0c351d",
   "metadata": {},
   "outputs": [],
   "source": [
    "x=0 ##global scope\n",
    "\n",
    "def outer (): ## enclosing scope\n",
    "    \n",
    "    x=1\n",
    "    \n",
    "    def inner (): ## local scope\n",
    "        \n",
    "        x=2"
   ]
  },
  {
   "cell_type": "markdown",
   "id": "45cd72d1",
   "metadata": {},
   "source": [
    "# 6. What happens to variables in a local scope when the function call returns?"
   ]
  },
  {
   "cell_type": "markdown",
   "id": "efcc1497",
   "metadata": {},
   "source": [
    "### Each call of the function creates new local variables"
   ]
  },
  {
   "cell_type": "markdown",
   "id": "38ea358e",
   "metadata": {},
   "source": [
    "# 7. What is the concept of a return value? Is it possible to have a return value in an expression?"
   ]
  },
  {
   "cell_type": "markdown",
   "id": "beffec38",
   "metadata": {},
   "source": [
    "# 8. If a function does not have a return statement, what is the return value of a call to that function?\n"
   ]
  },
  {
   "cell_type": "markdown",
   "id": "510c5e30",
   "metadata": {},
   "source": [
    "### if no return statement apprears it automically call returns to the calling function after the last statement of the called function is executed"
   ]
  },
  {
   "cell_type": "markdown",
   "id": "e2a3b714",
   "metadata": {},
   "source": [
    "# 9. How do you make a function variable refer to the global variable?\n"
   ]
  },
  {
   "cell_type": "markdown",
   "id": "84adf36f",
   "metadata": {},
   "source": [
    "### when you create a variable inside a function, that variable is local, and can only be used inside that function. To create a global variable inside a function, you can use the global keyword."
   ]
  },
  {
   "cell_type": "markdown",
   "id": "7cfd7f21",
   "metadata": {},
   "source": [
    "# 10. What is the data type of None?"
   ]
  },
  {
   "cell_type": "markdown",
   "id": "7e5c5415",
   "metadata": {},
   "source": [
    "### none is none ,none data type hav ther own datatype "
   ]
  },
  {
   "cell_type": "markdown",
   "id": "0360368e",
   "metadata": {},
   "source": [
    "# 11. What does the sentence import areall your petsnamederic do?"
   ]
  },
  {
   "cell_type": "markdown",
   "id": "9aa9a20e",
   "metadata": {},
   "source": [
    "# 12. If you had a bacon() feature in a spam module, what would you call it after importing spam?"
   ]
  },
  {
   "cell_type": "markdown",
   "id": "53f72d6f",
   "metadata": {},
   "source": [
    "bacon():\n",
    "    spam.bacon"
   ]
  },
  {
   "cell_type": "markdown",
   "id": "bc66c6ea",
   "metadata": {},
   "source": [
    "# 13. What can you do to save a programme from crashing if it encounters an error?"
   ]
  },
  {
   "cell_type": "markdown",
   "id": "a905a693",
   "metadata": {},
   "source": [
    "### When an error is encountered in a program, Python interpreter raises or throws an exception. Exception Handlers are the codes that are designed to execute when a specific exception is raised. "
   ]
  },
  {
   "cell_type": "markdown",
   "id": "1980fab7",
   "metadata": {},
   "source": [
    "# 14. What is the purpose of the try clause? What is the purpose of the except clause?\n"
   ]
  },
  {
   "cell_type": "markdown",
   "id": "44e27c2f",
   "metadata": {},
   "source": [
    "### the try block lets you test a block of code for errors,and The except block lets you handle the error"
   ]
  },
  {
   "cell_type": "code",
   "execution_count": null,
   "id": "4ccf3dc8",
   "metadata": {},
   "outputs": [],
   "source": []
  }
 ],
 "metadata": {
  "kernelspec": {
   "display_name": "Python 3 (ipykernel)",
   "language": "python",
   "name": "python3"
  },
  "language_info": {
   "codemirror_mode": {
    "name": "ipython",
    "version": 3
   },
   "file_extension": ".py",
   "mimetype": "text/x-python",
   "name": "python",
   "nbconvert_exporter": "python",
   "pygments_lexer": "ipython3",
   "version": "3.9.12"
  }
 },
 "nbformat": 4,
 "nbformat_minor": 5
}
