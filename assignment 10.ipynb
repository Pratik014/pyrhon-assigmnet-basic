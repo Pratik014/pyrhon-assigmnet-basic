{
 "cells": [
  {
   "cell_type": "code",
   "execution_count": null,
   "id": "de146122-76ee-453b-bb7d-cbfc495d74b1",
   "metadata": {},
   "outputs": [],
   "source": [
    "1. What is the difference between shutil.copy() and shutil.copytree()?\n",
    "\n",
    "Ans = The shutil.copy() function will copy a single file, while shutil.copytree() \n",
    "will copy an entire folder, along with all its contents."
   ]
  },
  {
   "cell_type": "code",
   "execution_count": null,
   "id": "cdf82cfa-9c9f-4df5-a50f-a9482692886f",
   "metadata": {},
   "outputs": [],
   "source": [
    "2. What function is used to rename files?\n",
    "\n",
    "Ans =The shutil.move() function is used for renaming files, as well as moving them."
   ]
  },
  {
   "cell_type": "code",
   "execution_count": null,
   "id": "04d2566f-d66f-48e6-b179-ecae95d7022a",
   "metadata": {},
   "outputs": [],
   "source": [
    "3. What is the difference between the delete functions in the send2trash and shutil modules?\n",
    "\n",
    "Ans= The send2trash functions will move a file or folder to the recycle bin, while shutil functions will permanently \n",
    "        delete files and folders."
   ]
  },
  {
   "cell_type": "code",
   "execution_count": null,
   "id": "c4652009-a684-49ef-92bb-da1e4c0a294f",
   "metadata": {},
   "outputs": [],
   "source": [
    "4. ZipFile objects have a close() method just like File objects' close() method. What ZipFile method is equivalent to File objects' open() method?\n",
    "\n",
    "The zipfile.ZipFile() function is equivalent to the open() function; the first argument is the filename, and the second argument is the mode to open the ZIP file in (read, write, or append)."
   ]
  },
  {
   "cell_type": "code",
   "execution_count": null,
   "id": "eac616a8-a5ba-4490-a22e-2152bf36537c",
   "metadata": {},
   "outputs": [],
   "source": []
  },
  {
   "cell_type": "code",
   "execution_count": null,
   "id": "956ac0cf-b5cc-4067-b599-4940998aefc2",
   "metadata": {},
   "outputs": [],
   "source": []
  },
  {
   "cell_type": "code",
   "execution_count": null,
   "id": "0a9b4c81-1cf9-4d94-9509-a543568a8c1f",
   "metadata": {},
   "outputs": [],
   "source": []
  }
 ],
 "metadata": {
  "kernelspec": {
   "display_name": "Python 3 (ipykernel)",
   "language": "python",
   "name": "python3"
  },
  "language_info": {
   "codemirror_mode": {
    "name": "ipython",
    "version": 3
   },
   "file_extension": ".py",
   "mimetype": "text/x-python",
   "name": "python",
   "nbconvert_exporter": "python",
   "pygments_lexer": "ipython3",
   "version": "3.10.6"
  }
 },
 "nbformat": 4,
 "nbformat_minor": 5
}
