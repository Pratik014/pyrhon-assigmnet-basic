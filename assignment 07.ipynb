{
 "cells": [
  {
   "cell_type": "code",
   "execution_count": null,
   "id": "69ef233e-0fbc-4c53-b25d-83aae5adb9cd",
   "metadata": {},
   "outputs": [],
   "source": [
    "1. Is the Python Standard Library included with PyInputPlus?\n",
    "# A collection of programming components that can be used in any Python program."
   ]
  },
  {
   "cell_type": "code",
   "execution_count": null,
   "id": "0962111a-da09-4bb6-befc-184b607c2f9f",
   "metadata": {},
   "outputs": [],
   "source": [
    "2. Why is PyInputPlus commonly imported with import pyinputplus as pypi?\n",
    "#You can import the module with import pyinputplus as pyip so that you can enter a \n",
    "#shorter name when calling the module’s functions"
   ]
  },
  {
   "cell_type": "code",
   "execution_count": null,
   "id": "d5b0f95a-feb3-4299-96f0-b26d03d1e3b5",
   "metadata": {},
   "outputs": [],
   "source": [
    "3. How do you distinguish between inputInt() and inputFloat()?\n",
    "\n",
    "Ans:  The difference is in the data-type when you use the first one the program expects an integer value as input \n",
    "but in the latter it expects a float value i.e number containing a decimal\n",
    "\n"
   ]
  },
  {
   "cell_type": "code",
   "execution_count": null,
   "id": "e77984f5-8f9b-4156-a4de-e5222f682690",
   "metadata": {},
   "outputs": [],
   "source": [
    "4. Using PyInputPlus, how do you ensure that the user enters a whole number between 0 and 99?\n",
    "\n",
    "Ans: By using pyip.inputint(min=0, max=99)\n",
    "\n"
   ]
  },
  {
   "cell_type": "code",
   "execution_count": null,
   "id": "26457e7a-301f-4c64-8512-b6e3f9975e0d",
   "metadata": {},
   "outputs": [],
   "source": [
    "5. What is transferred to the keyword arguments allowRegexes and blockRegexes?\n",
    "\n",
    "Ans: A list of regex strings that are either explicitly allowed or denied"
   ]
  },
  {
   "cell_type": "code",
   "execution_count": null,
   "id": "a8021059-2d12-49e3-9022-8f4c4ccd71fc",
   "metadata": {},
   "outputs": [],
   "source": [
    "6. If a blank input is entered three times, what does inputStr(limit=3) do?\n",
    "\n",
    "Ans: The function will raise RetryLimitException."
   ]
  },
  {
   "cell_type": "code",
   "execution_count": null,
   "id": "eada3abc-a5fa-4c0d-977a-2ae5d6465992",
   "metadata": {},
   "outputs": [],
   "source": [
    "7. If blank input is entered three times, what does inputStr(limit=3, default='hello') do?\n",
    "\n",
    "Ans: . The function returns the value 'hello'\n",
    "\n"
   ]
  },
  {
   "cell_type": "code",
   "execution_count": null,
   "id": "96813971-e7c8-44c3-a78f-26c90478d616",
   "metadata": {},
   "outputs": [],
   "source": []
  },
  {
   "cell_type": "code",
   "execution_count": null,
   "id": "4cb7e2f6-102c-423e-bbaf-1170c3fd95ea",
   "metadata": {},
   "outputs": [],
   "source": []
  },
  {
   "cell_type": "code",
   "execution_count": null,
   "id": "d59d9b4e-818d-4517-be96-669cccd58dba",
   "metadata": {},
   "outputs": [],
   "source": []
  }
 ],
 "metadata": {
  "kernelspec": {
   "display_name": "Python 3 (ipykernel)",
   "language": "python",
   "name": "python3"
  },
  "language_info": {
   "codemirror_mode": {
    "name": "ipython",
    "version": 3
   },
   "file_extension": ".py",
   "mimetype": "text/x-python",
   "name": "python",
   "nbconvert_exporter": "python",
   "pygments_lexer": "ipython3",
   "version": "3.10.6"
  }
 },
 "nbformat": 4,
 "nbformat_minor": 5
}
