{
 "cells": [
  {
   "cell_type": "code",
   "execution_count": null,
   "id": "1d518483",
   "metadata": {},
   "outputs": [],
   "source": [
    "#1. What exactly is []?\n",
    "ANS # empty list value cantain no item in the list"
   ]
  },
  {
   "cell_type": "code",
   "execution_count": 1,
   "id": "b9bba97a",
   "metadata": {},
   "outputs": [],
   "source": [
    "#2. In a list of values stored in a variable called spam, how would you assign the value ('hello') as the\n",
    "#third value? (Assume [2, 4, 6, 8, 10] are in spam.)\n",
    "\n",
    "\n",
    "#Let&#39;s pretend the spam includes the list ['a','b','c','d'] for the next three queries.\n",
    "\n",
    "#ANN :== BASICALLY its look like spam[2] = 'hello' with the help of these we replace hello in list on index no '2'"
   ]
  },
  {
   "cell_type": "code",
   "execution_count": 2,
   "id": "f2db47f6",
   "metadata": {},
   "outputs": [],
   "source": [
    "#3. What is the value of spam[int(int(\"3\" * 2) / 11)]?\n",
    "# ANS=== that '3' * 2 is the string '33', which is passed to int() before being divided by 11.\n",
    "##--------This eventually evaluates to 3.\n",
    "##---------Expressions can be used wherever values are used"
   ]
  },
  {
   "cell_type": "code",
   "execution_count": 3,
   "id": "25b6bafa",
   "metadata": {},
   "outputs": [],
   "source": [
    "#4. What is the value of spam[-1]?\n",
    "## ANS === AS WE see spam list ['a','b','c','d'] .it means 'd'.\n",
    "## --------spam -1 evaluate neagtive index count from the end"
   ]
  },
  {
   "cell_type": "code",
   "execution_count": 32,
   "id": "eb0eb42a",
   "metadata": {},
   "outputs": [
    {
     "name": "stdout",
     "output_type": "stream",
     "text": [
      "['a', 'b']\n"
     ]
    }
   ],
   "source": [
    "# 5. What is the value of spam[:2]? Let&#39;s pretend bacon has the list [3.14,'cat',11,'cat', True] for the next three questions.\n",
    "spam=['a','b','c','d']\n",
    "print(spam[:2])\n"
   ]
  },
  {
   "cell_type": "code",
   "execution_count": 30,
   "id": "c5dc74b9",
   "metadata": {},
   "outputs": [
    {
     "name": "stdout",
     "output_type": "stream",
     "text": [
      "1\n"
     ]
    }
   ],
   "source": [
    "# 6. What is the value of bacon.index('cat&')?bacon = [3.14,'cat',11,'cat', True]\n",
    "bacon = [3.14,'cat',11,'cat', True]\n",
    "print(bacon.index('cat'))"
   ]
  },
  {
   "cell_type": "code",
   "execution_count": 38,
   "id": "76025e71",
   "metadata": {},
   "outputs": [
    {
     "data": {
      "text/plain": [
       "[3.14, 'cat', 11, 'cat', True, 99]"
      ]
     },
     "execution_count": 38,
     "metadata": {},
     "output_type": "execute_result"
    }
   ],
   "source": [
    "# 7. How does bacon.append(99) change the look of the list value in bacon?\n",
    "bacon = [3.14,'cat',11,'cat', True]\n",
    "bacon.append(99)\n",
    "bacon"
   ]
  },
  {
   "cell_type": "code",
   "execution_count": 44,
   "id": "52410ce5",
   "metadata": {},
   "outputs": [
    {
     "data": {
      "text/plain": [
       "[3.14, 11, 'cat', True]"
      ]
     },
     "execution_count": 44,
     "metadata": {},
     "output_type": "execute_result"
    }
   ],
   "source": [
    "#8. How does bacon.remove('cat') change the look of the list in bacon?\n",
    "bacon=[3.14,'cat',11,'cat', True]\n",
    "bacon.remove('cat')\n",
    "bacon"
   ]
  },
  {
   "cell_type": "code",
   "execution_count": 45,
   "id": "c4f6238b",
   "metadata": {},
   "outputs": [],
   "source": [
    "#9. What are the list concatenation and list replication operators?\n",
    "### ANS== The operator for list concatenation is +(ADD), while the operator for replication is * (DOUBLE)"
   ]
  },
  {
   "cell_type": "code",
   "execution_count": 47,
   "id": "42b113b6",
   "metadata": {},
   "outputs": [],
   "source": [
    "#10. What is difference between the list methods append() and insert()?\n",
    "#in append  value are added in end of the list , in insert the value are added in anyver"
   ]
  },
  {
   "cell_type": "code",
   "execution_count": null,
   "id": "7cbc0ba9",
   "metadata": {},
   "outputs": [],
   "source": [
    "# 11. What are the two methods for removing items from a list?\n",
    "1.del 2.revome this are two method\n"
   ]
  },
  {
   "cell_type": "code",
   "execution_count": 48,
   "id": "f7a4da5f",
   "metadata": {},
   "outputs": [],
   "source": [
    "#12. Describe how list values and string values are identical.\n",
    "##ANS===Both lists and strings can be passed to len(), have indexes and slices, be used in for loops, be concatenated or replicated, and be used with the in and not in operators"
   ]
  },
  {
   "cell_type": "code",
   "execution_count": 49,
   "id": "ec96f05e",
   "metadata": {},
   "outputs": [],
   "source": [
    "#13. What&#39;s the difference between tuples and lists?\n",
    "##ANS ===list are mutable and using [], tuple are immutable they connot be changable using()"
   ]
  },
  {
   "cell_type": "code",
   "execution_count": 50,
   "id": "7cb7519e",
   "metadata": {},
   "outputs": [],
   "source": [
    "#14. How do you type a tuple value that only contains the integer 42?\n",
    "tup=(42,)"
   ]
  },
  {
   "cell_type": "code",
   "execution_count": 51,
   "id": "15cf2314",
   "metadata": {},
   "outputs": [],
   "source": [
    "#15. How do you get a list value&#39;s tuple form? How do you get a tuple value&#39;s list form?\n",
    "#ANS The tuple() and list() functions, respectively"
   ]
  },
  {
   "cell_type": "code",
   "execution_count": 52,
   "id": "3ff32d48",
   "metadata": {},
   "outputs": [],
   "source": [
    "#16. Variables that contain list values are not necessarily lists themselves. Instead, what do they contain?\n",
    "##ANS == they contain references to list values."
   ]
  },
  {
   "cell_type": "code",
   "execution_count": null,
   "id": "11858b8d",
   "metadata": {},
   "outputs": [],
   "source": [
    "#17. How do you distinguish between copy.copy() and copy.deepcopy()?\n",
    "##ANS == The copy.copy() function will do a shallow copy of a list, while the copy.deepcopy() function will do a deep copy of a list. That is, only copy.deepcopy() will duplicate any lists inside the list.\n",
    "\n",
    "\n"
   ]
  }
 ],
 "metadata": {
  "kernelspec": {
   "display_name": "Python 3 (ipykernel)",
   "language": "python",
   "name": "python3"
  },
  "language_info": {
   "codemirror_mode": {
    "name": "ipython",
    "version": 3
   },
   "file_extension": ".py",
   "mimetype": "text/x-python",
   "name": "python",
   "nbconvert_exporter": "python",
   "pygments_lexer": "ipython3",
   "version": "3.9.12"
  }
 },
 "nbformat": 4,
 "nbformat_minor": 5
}
