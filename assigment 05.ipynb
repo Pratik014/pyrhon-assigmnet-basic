{
 "cells": [
  {
   "cell_type": "code",
   "execution_count": 1,
   "id": "63d17901-1568-4025-aa9f-f669aa6082c2",
   "metadata": {},
   "outputs": [
    {
     "name": "stdout",
     "output_type": "stream",
     "text": [
      "{}\n"
     ]
    }
   ],
   "source": [
    "# 1. What does an empty dictionary;s code look like?\n",
    "empty={}\n",
    "print(empty)"
   ]
  },
  {
   "cell_type": "code",
   "execution_count": 2,
   "id": "6eeea46e-adef-4fc5-8a01-069e5ee9a80b",
   "metadata": {},
   "outputs": [
    {
     "name": "stdout",
     "output_type": "stream",
     "text": [
      "{'foo': 42}\n"
     ]
    }
   ],
   "source": [
    "# 2. What is the value of a dictionary value with the key 'foo'; and the value 42?\n",
    "d={'foo':42}\n",
    "print(d)"
   ]
  },
  {
   "cell_type": "raw",
   "id": "1f802bf6-d643-4f4a-a253-814115f21e64",
   "metadata": {},
   "source": [
    "# 3. What is the most significant distinction between a dictionary and a list?\n",
    "1. In in list we add element in [] this form like (int,float,srt)\n",
    "                        vs\n",
    "2 in dictionary we use {} this form ,in it there are key & values ,and key never reapeated its have unique key in dict\n",
    "examp:= {\"foo\":42,'car':5}"
   ]
  },
  {
   "cell_type": "code",
   "execution_count": null,
   "id": "153d564e-a499-487d-816d-d153899ca49b",
   "metadata": {},
   "outputs": [],
   "source": [
    "#4. What happens if you try to access spam['foo'] if spam is {'bar': 100}?\n",
    "You get a KeyError error."
   ]
  },
  {
   "cell_type": "raw",
   "id": "49652a32-340b-446a-a800-49aa6c16d7a7",
   "metadata": {},
   "source": [
    "# 5. If a dictionary is stored in spam, what is the difference between the expressions 'cat' in spam and 'cat' in spam.keys()?\n",
    "ans==There is no difference. The in operator checks whether a value exists as a key in the dictionary"
   ]
  },
  {
   "cell_type": "code",
   "execution_count": null,
   "id": "740da8a4-a025-4bba-a7fd-0af687ca54e7",
   "metadata": {},
   "outputs": [],
   "source": [
    "# 6. If a dictionary is stored in spam, what is the difference between the expressions 'cat' in spam and &'cat' in spam.values()?\n",
    "\n",
    "\n",
    "# ans=='cat' in spam checks whether there is a 'cat' key in the dictionary, while 'cat' in spam.values()\n",
    "#       checks whether there is a value 'cat' for one of the keys in spam"
   ]
  },
  {
   "cell_type": "code",
   "execution_count": null,
   "id": "9fa165ac-cda6-43e1-bf91-3cf153917590",
   "metadata": {},
   "outputs": [],
   "source": [
    "#7. What is a shortcut for the following code?\n",
    "if 'color' not in spam:\n",
    "    spam['color'] = black\n",
    "    \n",
    "    spam.setdefault('color', 'black')"
   ]
  },
  {
   "cell_type": "code",
   "execution_count": null,
   "id": "1a063345-6dc8-4d51-9f94-f3cb8d606a6b",
   "metadata": {},
   "outputs": [],
   "source": []
  },
  {
   "cell_type": "code",
   "execution_count": null,
   "id": "deffe6e2-a9da-4d1d-a698-a60800a8e337",
   "metadata": {},
   "outputs": [],
   "source": [
    "#8. How do you \"pretty print\" dictionary values using which module and function?\n",
    "pprint.pprint()"
   ]
  },
  {
   "cell_type": "code",
   "execution_count": null,
   "id": "665c2e75-2374-4b8c-81b0-88c819e6247b",
   "metadata": {},
   "outputs": [],
   "source": []
  },
  {
   "cell_type": "code",
   "execution_count": null,
   "id": "07675d5a-4cb8-4328-95fe-f5a1d0c7cf86",
   "metadata": {},
   "outputs": [],
   "source": []
  },
  {
   "cell_type": "code",
   "execution_count": null,
   "id": "43936331-83c6-47f5-a032-6cbe8062afcb",
   "metadata": {},
   "outputs": [],
   "source": []
  }
 ],
 "metadata": {
  "kernelspec": {
   "display_name": "Python 3 (ipykernel)",
   "language": "python",
   "name": "python3"
  },
  "language_info": {
   "codemirror_mode": {
    "name": "ipython",
    "version": 3
   },
   "file_extension": ".py",
   "mimetype": "text/x-python",
   "name": "python",
   "nbconvert_exporter": "python",
   "pygments_lexer": "ipython3",
   "version": "3.10.6"
  }
 },
 "nbformat": 4,
 "nbformat_minor": 5
}
