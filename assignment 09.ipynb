{
 "cells": [
  {
   "cell_type": "code",
   "execution_count": null,
   "id": "c55b044f-8cc9-4bfb-a202-bc1f11002c7d",
   "metadata": {},
   "outputs": [],
   "source": [
    "1. To what does a relative path refer?\n",
    "ans :-Relative paths are relative to the current working directory"
   ]
  },
  {
   "cell_type": "code",
   "execution_count": null,
   "id": "192f8077-1a4c-433a-93a2-ed8f82d6defc",
   "metadata": {},
   "outputs": [],
   "source": [
    "2. What does an absolute path start with your operating system?\n",
    "Ans := Absolute paths start with the root folder, such as / or C:\\"
   ]
  },
  {
   "cell_type": "code",
   "execution_count": null,
   "id": "19eca9f9-686b-4eb3-aedb-3c1d0e7423af",
   "metadata": {},
   "outputs": [],
   "source": [
    "3. What do the functions os.getcwd() and os.chdir() do?\n",
    "Ans := The os.getcwd() function returns the current working directory. The os.chdir() function changes\n",
    "        the current working directory.\n",
    "\n",
    "\n"
   ]
  },
  {
   "cell_type": "code",
   "execution_count": null,
   "id": "b838ee72-8f35-42ef-bf43-7120e19ec9d8",
   "metadata": {},
   "outputs": [],
   "source": [
    "4. What are the . and .. folders?\n",
    "Ans:== The . folder is the current folder, and .. is the parent folder"
   ]
  },
  {
   "cell_type": "code",
   "execution_count": null,
   "id": "b4a0e348-18aa-4d05-a232-05b7ee9c5fe9",
   "metadata": {},
   "outputs": [],
   "source": [
    "5. In C:\\bacon\\eggs\\spam.txt, which part is the dir name, and which part is the base name?\n",
    "Ans = C:\\bacon\\eggs is the dir name, while spam.txt is the base name."
   ]
  },
  {
   "cell_type": "code",
   "execution_count": null,
   "id": "5317b515-5263-4fd9-bf2f-81f894dd702b",
   "metadata": {},
   "outputs": [],
   "source": [
    "6. What are the three “mode” arguments that can be passed to the open() function?\n",
    "Ans := The string 'r' for read mode, 'w' for write mode, and 'a' for append mode"
   ]
  },
  {
   "cell_type": "code",
   "execution_count": null,
   "id": "291e4fcc-bd8c-4301-b8be-379cfe01983f",
   "metadata": {},
   "outputs": [],
   "source": [
    "7. What happens if an existing file is opened in write mode?\n",
    "Ans := An existing file opened in write mode is erased and completely overwritten"
   ]
  },
  {
   "cell_type": "code",
   "execution_count": null,
   "id": "c6ae01f5-430a-40c6-afad-e051c428a5ec",
   "metadata": {},
   "outputs": [],
   "source": [
    "8. How do you tell the difference between read() and readlines()?\n",
    "Ans := The read() method returns the files entire contents as a single string value. The readlines() method returns \n",
    "         a list of strings, where each string is a line from the file's contents."
   ]
  },
  {
   "cell_type": "code",
   "execution_count": null,
   "id": "27fb1862-a23b-44e2-8517-a71f539211ae",
   "metadata": {},
   "outputs": [],
   "source": [
    "9. What data structure does a shelf value resemble?\n",
    "Ans := A shelf value resembles a dictionary value; it has keys and values, along with keys() and values() methods that work similarly to the dictionary methods of the same names.\n",
    "\n",
    "\n"
   ]
  },
  {
   "cell_type": "code",
   "execution_count": null,
   "id": "fce0636c-3bc1-49e7-a1d9-69f292790f1d",
   "metadata": {},
   "outputs": [],
   "source": []
  },
  {
   "cell_type": "code",
   "execution_count": null,
   "id": "6ad27029-d3e9-4f9a-8d6e-f0b1312b276b",
   "metadata": {},
   "outputs": [],
   "source": []
  },
  {
   "cell_type": "code",
   "execution_count": null,
   "id": "69b63a1c-3c75-4598-8a0b-326470bcec31",
   "metadata": {},
   "outputs": [],
   "source": []
  },
  {
   "cell_type": "code",
   "execution_count": null,
   "id": "50b4a6ac-6be7-4511-af48-df784026ff69",
   "metadata": {},
   "outputs": [],
   "source": []
  },
  {
   "cell_type": "code",
   "execution_count": null,
   "id": "41a3d73d-8139-4502-bd2c-2c41c93b987d",
   "metadata": {},
   "outputs": [],
   "source": []
  },
  {
   "cell_type": "code",
   "execution_count": null,
   "id": "132cc053-518e-4459-b437-45d1fff327eb",
   "metadata": {},
   "outputs": [],
   "source": []
  },
  {
   "cell_type": "code",
   "execution_count": null,
   "id": "4debe472-d94e-487c-96c3-9e8e9d232700",
   "metadata": {},
   "outputs": [],
   "source": []
  },
  {
   "cell_type": "code",
   "execution_count": null,
   "id": "67e9cdae-be30-48b2-a2ec-e027e99a1c4f",
   "metadata": {},
   "outputs": [],
   "source": []
  }
 ],
 "metadata": {
  "kernelspec": {
   "display_name": "Python 3 (ipykernel)",
   "language": "python",
   "name": "python3"
  },
  "language_info": {
   "codemirror_mode": {
    "name": "ipython",
    "version": 3
   },
   "file_extension": ".py",
   "mimetype": "text/x-python",
   "name": "python",
   "nbconvert_exporter": "python",
   "pygments_lexer": "ipython3",
   "version": "3.10.6"
  }
 },
 "nbformat": 4,
 "nbformat_minor": 5
}
