{
 "cells": [
  {
   "cell_type": "markdown",
   "id": "e206e771",
   "metadata": {},
   "source": [
    "## 1. In the below elements which of them are values or an expression? eg:- values can beinteger or string and expressions will be mathematical operators."
   ]
  },
  {
   "cell_type": "code",
   "execution_count": 4,
   "id": "c2976bab",
   "metadata": {},
   "outputs": [
    {
     "data": {
      "text/plain": [
       "15129"
      ]
     },
     "execution_count": 4,
     "metadata": {},
     "output_type": "execute_result"
    }
   ],
   "source": [
    "123*123 # multiply of 2 no"
   ]
  },
  {
   "cell_type": "code",
   "execution_count": 6,
   "id": "844db500",
   "metadata": {},
   "outputs": [
    {
     "data": {
      "text/plain": [
       "4"
      ]
     },
     "execution_count": 6,
     "metadata": {},
     "output_type": "execute_result"
    }
   ],
   "source": [
    "2+2 # sum of 2 no"
   ]
  },
  {
   "cell_type": "code",
   "execution_count": 7,
   "id": "4d80f494",
   "metadata": {},
   "outputs": [
    {
     "data": {
      "text/plain": [
       "-2"
      ]
     },
     "execution_count": 7,
     "metadata": {},
     "output_type": "execute_result"
    }
   ],
   "source": [
    "2-4 # subtrac of 2 n0\n"
   ]
  },
  {
   "cell_type": "code",
   "execution_count": 9,
   "id": "cb461041",
   "metadata": {},
   "outputs": [
    {
     "data": {
      "text/plain": [
       "2.0"
      ]
     },
     "execution_count": 9,
     "metadata": {},
     "output_type": "execute_result"
    }
   ],
   "source": [
    "4/2 # divide of 2 no"
   ]
  },
  {
   "cell_type": "code",
   "execution_count": 11,
   "id": "291801c8",
   "metadata": {},
   "outputs": [
    {
     "data": {
      "text/plain": [
       "str"
      ]
     },
     "execution_count": 11,
     "metadata": {},
     "output_type": "execute_result"
    }
   ],
   "source": [
    "type('hello') # its a string ' '"
   ]
  },
  {
   "cell_type": "code",
   "execution_count": 12,
   "id": "cdc7ca14",
   "metadata": {},
   "outputs": [
    {
     "data": {
      "text/plain": [
       "int"
      ]
     },
     "execution_count": 12,
     "metadata": {},
     "output_type": "execute_result"
    }
   ],
   "source": [
    "type(9) # int value"
   ]
  },
  {
   "cell_type": "code",
   "execution_count": 15,
   "id": "055f87c6",
   "metadata": {},
   "outputs": [
    {
     "data": {
      "text/plain": [
       "float"
      ]
     },
     "execution_count": 15,
     "metadata": {},
     "output_type": "execute_result"
    }
   ],
   "source": [
    "type(-85.5) # float values"
   ]
  },
  {
   "cell_type": "markdown",
   "id": "3607ea59",
   "metadata": {},
   "source": [
    "## What is the difference between string and variable?"
   ]
  },
  {
   "cell_type": "code",
   "execution_count": 22,
   "id": "226a87ea",
   "metadata": {},
   "outputs": [],
   "source": [
    "## in string , we use \"\" sign  &       in variable contain only alphabetic\n",
    "#example:                              #  we cant contain  ^ % $ ! @ # ^ & * ( ) special charaters\n",
    " #       print('pratik') = str          # it's not a strict rule that you should variable names with a Captital letter\n",
    "                                       #   eaxmple : \n",
    "                                        #            variable=10 ,__variable=10, variable25=10"
   ]
  },
  {
   "cell_type": "markdown",
   "id": "5a60b100",
   "metadata": {},
   "source": []
  },
  {
   "cell_type": "markdown",
   "id": "246bdb90",
   "metadata": {},
   "source": [
    "## 3. Describe three different data types."
   ]
  },
  {
   "cell_type": "code",
   "execution_count": null,
   "id": "c70ea1c0",
   "metadata": {},
   "outputs": [],
   "source": [
    "there are many types of datatypes int, float,str,boolen,list,tuple,set,dictionay etc\n",
    "\n",
    "Data type is an important concept.\n",
    "Variables can store data of different types, and different types can do different things in datatype\n",
    "we discuss int , float , str\n",
    "int = in int datatype there are only numerical nos\n",
    "in this the value should not in float value\n",
    "example:- int=10 --- type(int)\n",
    "\n",
    "float= in float datatype there only in numericals nos but contain the 25.5 measn its not a fix value \n",
    "in float the value should be in int\n",
    "example :- float=25.5  ---- type(float)\n",
    "\n",
    "str = in this there are only in form of charaters like , name ,place etc\n",
    "in the str is  in also in senence form\n",
    "example= str='pratik'-----type(str)"
   ]
  },
  {
   "cell_type": "markdown",
   "id": "a2de55dd",
   "metadata": {},
   "source": [
    "## 4. What is an expression made up of? What do all expressions do?"
   ]
  },
  {
   "cell_type": "code",
   "execution_count": 24,
   "id": "f979aba5",
   "metadata": {},
   "outputs": [
    {
     "ename": "SyntaxError",
     "evalue": "invalid syntax (3232373519.py, line 1)",
     "output_type": "error",
     "traceback": [
      "\u001b[0;36m  Input \u001b[0;32mIn [24]\u001b[0;36m\u001b[0m\n\u001b[0;31m    there r many expression\u001b[0m\n\u001b[0m          ^\u001b[0m\n\u001b[0;31mSyntaxError\u001b[0m\u001b[0;31m:\u001b[0m invalid syntax\n"
     ]
    }
   ],
   "source": [
    "there r many expression \n",
    "\n",
    "1.(+)--x + y------------Addition\n",
    "\n",
    "2.(–)--x – y---------------Subtraction\n",
    "\n",
    "3.(*)--x * y-----------Multiplication\n",
    "\n",
    "4.(/)--x / y----------Division\n",
    "\n",
    "5.(//)--x // y----------Quotient\n",
    "\n",
    "6.(%)--x % y----------Remainder\n",
    "\n",
    "7.(**)--x ** y---------Exponentiation\n"
   ]
  },
  {
   "cell_type": "markdown",
   "id": "e8ace18c",
   "metadata": {},
   "source": [
    "## 5. This assignment statements, like spam = 10. What is the difference between anexpression and a statement?"
   ]
  },
  {
   "cell_type": "code",
   "execution_count": null,
   "id": "871a0e79",
   "metadata": {},
   "outputs": [],
   "source": [
    "expression are in special characters\n",
    "+,-,*,**,/,//"
   ]
  },
  {
   "cell_type": "code",
   "execution_count": null,
   "id": "17260518",
   "metadata": {},
   "outputs": [],
   "source": [
    "statements are is an spam = 10(=)is statement\n",
    "print() = is an statement\n",
    "spam= ,= is an statement\n",
    "return \n",
    "pass\n",
    "etc"
   ]
  },
  {
   "cell_type": "code",
   "execution_count": 25,
   "id": "8fef7e7b",
   "metadata": {},
   "outputs": [
    {
     "name": "stdout",
     "output_type": "stream",
     "text": [
      "4\n"
     ]
    }
   ],
   "source": [
    "print(2*2) ## we add both statement and expression"
   ]
  },
  {
   "cell_type": "markdown",
   "id": "19bd2069",
   "metadata": {},
   "source": [
    "## 6. After running the following code, what does the variable bacon contain?"
   ]
  },
  {
   "cell_type": "code",
   "execution_count": 26,
   "id": "20497b11",
   "metadata": {},
   "outputs": [
    {
     "data": {
      "text/plain": [
       "23"
      ]
     },
     "execution_count": 26,
     "metadata": {},
     "output_type": "execute_result"
    }
   ],
   "source": [
    "bacon = 22\n",
    "bacon + 1"
   ]
  },
  {
   "cell_type": "markdown",
   "id": "4b84a0d3",
   "metadata": {},
   "source": [
    "## 7. What should the values of the following two terms be?"
   ]
  },
  {
   "cell_type": "code",
   "execution_count": 31,
   "id": "f3797786",
   "metadata": {},
   "outputs": [
    {
     "data": {
      "text/plain": [
       "'spamspamspam'"
      ]
     },
     "execution_count": 31,
     "metadata": {},
     "output_type": "execute_result"
    }
   ],
   "source": [
    "'spam' +'spamspam'\n",
    "'spam'*3"
   ]
  },
  {
   "cell_type": "code",
   "execution_count": 30,
   "id": "fb54ad8b",
   "metadata": {},
   "outputs": [
    {
     "data": {
      "text/plain": [
       "'spamspamspam'"
      ]
     },
     "execution_count": 30,
     "metadata": {},
     "output_type": "execute_result"
    }
   ],
   "source": [
    "'spam'*3"
   ]
  },
  {
   "cell_type": "markdown",
   "id": "ec5b362e",
   "metadata": {},
   "source": [
    "## 8. Why is eggs a valid variable name while 100 is invalid?"
   ]
  },
  {
   "cell_type": "code",
   "execution_count": 32,
   "id": "f779f6d2",
   "metadata": {},
   "outputs": [],
   "source": [
    "egg=10"
   ]
  },
  {
   "cell_type": "code",
   "execution_count": 33,
   "id": "2873c332",
   "metadata": {},
   "outputs": [
    {
     "data": {
      "text/plain": [
       "10"
      ]
     },
     "execution_count": 33,
     "metadata": {},
     "output_type": "execute_result"
    }
   ],
   "source": [
    "egg\n"
   ]
  },
  {
   "cell_type": "code",
   "execution_count": 34,
   "id": "50635896",
   "metadata": {},
   "outputs": [
    {
     "ename": "SyntaxError",
     "evalue": "cannot assign to literal (1420227245.py, line 1)",
     "output_type": "error",
     "traceback": [
      "\u001b[0;36m  Input \u001b[0;32mIn [34]\u001b[0;36m\u001b[0m\n\u001b[0;31m    100=10\u001b[0m\n\u001b[0m    ^\u001b[0m\n\u001b[0;31mSyntaxError\u001b[0m\u001b[0;31m:\u001b[0m cannot assign to literal\n"
     ]
    }
   ],
   "source": [
    "100=10"
   ]
  },
  {
   "cell_type": "code",
   "execution_count": null,
   "id": "3e102e2c",
   "metadata": {},
   "outputs": [],
   "source": [
    "from seeing these example we clear that variable contain the character "
   ]
  },
  {
   "cell_type": "markdown",
   "id": "19c3f2d3",
   "metadata": {},
   "source": [
    "## 10. Why does this expression cause an error? How can you fix it?"
   ]
  },
  {
   "cell_type": "code",
   "execution_count": 39,
   "id": "9a7928b8",
   "metadata": {},
   "outputs": [
    {
     "ename": "TypeError",
     "evalue": "can only concatenate str (not \"int\") to str",
     "output_type": "error",
     "traceback": [
      "\u001b[0;31m---------------------------------------------------------------------------\u001b[0m",
      "\u001b[0;31mTypeError\u001b[0m                                 Traceback (most recent call last)",
      "Input \u001b[0;32mIn [39]\u001b[0m, in \u001b[0;36m<cell line: 1>\u001b[0;34m()\u001b[0m\n\u001b[0;32m----> 1\u001b[0m \u001b[38;5;124;43m'\u001b[39;49m\u001b[38;5;124;43mI have eaten\u001b[39;49m\u001b[38;5;124;43m'\u001b[39;49m\u001b[43m  \u001b[49m\u001b[38;5;241;43m+\u001b[39;49m\u001b[43m   \u001b[49m\u001b[38;5;241;43m99\u001b[39;49m \u001b[38;5;241m+\u001b[39m  \u001b[38;5;124m'\u001b[39m\u001b[38;5;124mburritos\u001b[39m\u001b[38;5;124m'\u001b[39m\n",
      "\u001b[0;31mTypeError\u001b[0m: can only concatenate str (not \"int\") to str"
     ]
    }
   ],
   "source": [
    "'I have eaten'  +   99 +  'burritos'"
   ]
  },
  {
   "cell_type": "code",
   "execution_count": 44,
   "id": "0687d3f2",
   "metadata": {},
   "outputs": [
    {
     "data": {
      "text/plain": [
       "'I have eaten99burritos.'"
      ]
     },
     "execution_count": 44,
     "metadata": {},
     "output_type": "execute_result"
    }
   ],
   "source": [
    "'I have eaten'  +   '99'   +  'burritos.'"
   ]
  },
  {
   "cell_type": "markdown",
   "id": "acbcb98d",
   "metadata": {},
   "source": [
    "## 9. What three functions can be used to get the integer, floating-point number, or string version of a value?"
   ]
  },
  {
   "cell_type": "code",
   "execution_count": null,
   "id": "704b8f43",
   "metadata": {},
   "outputs": [],
   "source": []
  }
 ],
 "metadata": {
  "kernelspec": {
   "display_name": "Python 3 (ipykernel)",
   "language": "python",
   "name": "python3"
  },
  "language_info": {
   "codemirror_mode": {
    "name": "ipython",
    "version": 3
   },
   "file_extension": ".py",
   "mimetype": "text/x-python",
   "name": "python",
   "nbconvert_exporter": "python",
   "pygments_lexer": "ipython3",
   "version": "3.9.12"
  }
 },
 "nbformat": 4,
 "nbformat_minor": 5
}
